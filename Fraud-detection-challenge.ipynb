{
 "cells": [
  {
   "cell_type": "markdown",
   "metadata": {},
   "source": [
    "# __Xente Fraud Detection Challenge__"
   ]
  },
  {
   "cell_type": "markdown",
   "metadata": {},
   "source": [
    "Our goal: Accurately classify the fraudulent transactions from Xente's e-commerce platform."
   ]
  },
  {
   "cell_type": "markdown",
   "metadata": {},
   "source": [
    "# Intro"
   ]
  },
  {
   "cell_type": "markdown",
   "metadata": {},
   "source": [
    "Xente is an e-commerce and financial service app serving 10,000+ customers in Uganda.\n",
    "\n",
    "This dataset includes a sample of approximately 140,000 transactions that occurred between 15 November 2018 and 15 March 2019."
   ]
  },
  {
   "cell_type": "markdown",
   "metadata": {},
   "source": [
    "# Load the data set"
   ]
  },
  {
   "cell_type": "code",
   "execution_count": 1,
   "metadata": {},
   "outputs": [],
   "source": [
    "# Import necessary libraries\n",
    "\n",
    "import pandas as pd\n",
    "import numpy as np\n",
    "\n",
    "import warnings\n",
    "warnings.filterwarnings('ignore')\n",
    "\n",
    "import seaborn as sns\n",
    "import matplotlib.pyplot as plt\n",
    "%matplotlib inline\n",
    "plt.rcParams['figure.figsize'] = 10, 8\n",
    "sns.set_style('whitegrid')\n",
    "\n",
    "from sklearn.linear_model import LogisticRegression\n",
    "from sklearn.tree import DecisionTreeClassifier\n",
    "from sklearn.ensemble import RandomForestClassifier\n",
    "\n",
    "from sklearn.model_selection import train_test_split\n",
    "from sklearn.metrics import confusion_matrix, classification_report, f1_score, accuracy_score\n",
    "\n",
    "from sklearn.utils import resample\n",
    "from imblearn.over_sampling import SMOTE\n",
    "\n",
    "RSEED = 25"
   ]
  },
  {
   "cell_type": "code",
   "execution_count": 2,
   "metadata": {},
   "outputs": [
    {
     "data": {
      "text/html": [
       "<div>\n",
       "<style scoped>\n",
       "    .dataframe tbody tr th:only-of-type {\n",
       "        vertical-align: middle;\n",
       "    }\n",
       "\n",
       "    .dataframe tbody tr th {\n",
       "        vertical-align: top;\n",
       "    }\n",
       "\n",
       "    .dataframe thead th {\n",
       "        text-align: right;\n",
       "    }\n",
       "</style>\n",
       "<table border=\"1\" class=\"dataframe\">\n",
       "  <thead>\n",
       "    <tr style=\"text-align: right;\">\n",
       "      <th></th>\n",
       "      <th>Column Name</th>\n",
       "      <th>Definition</th>\n",
       "    </tr>\n",
       "  </thead>\n",
       "  <tbody>\n",
       "    <tr>\n",
       "      <th>0</th>\n",
       "      <td>TransactionId</td>\n",
       "      <td>Unique �transaction identifier on platform</td>\n",
       "    </tr>\n",
       "    <tr>\n",
       "      <th>1</th>\n",
       "      <td>BatchId</td>\n",
       "      <td>Unique number assigned to a batch of transacti...</td>\n",
       "    </tr>\n",
       "    <tr>\n",
       "      <th>2</th>\n",
       "      <td>AccountId</td>\n",
       "      <td>Unique number identifying the customer on plat...</td>\n",
       "    </tr>\n",
       "    <tr>\n",
       "      <th>3</th>\n",
       "      <td>SubscriptionId</td>\n",
       "      <td>Unique number identifying the customer subscri...</td>\n",
       "    </tr>\n",
       "    <tr>\n",
       "      <th>4</th>\n",
       "      <td>CustomerId</td>\n",
       "      <td>Unique identifier attached to Account</td>\n",
       "    </tr>\n",
       "    <tr>\n",
       "      <th>5</th>\n",
       "      <td>CurrencyCode</td>\n",
       "      <td>Country currency</td>\n",
       "    </tr>\n",
       "    <tr>\n",
       "      <th>6</th>\n",
       "      <td>CountryCode</td>\n",
       "      <td>Numerical geographical code of country</td>\n",
       "    </tr>\n",
       "    <tr>\n",
       "      <th>7</th>\n",
       "      <td>ProviderId</td>\n",
       "      <td>Source provider of Item �bought.</td>\n",
       "    </tr>\n",
       "    <tr>\n",
       "      <th>8</th>\n",
       "      <td>ProductId</td>\n",
       "      <td>Item name being bought.</td>\n",
       "    </tr>\n",
       "    <tr>\n",
       "      <th>9</th>\n",
       "      <td>ProductCategory</td>\n",
       "      <td>ProductIds are organized into these broader pr...</td>\n",
       "    </tr>\n",
       "    <tr>\n",
       "      <th>10</th>\n",
       "      <td>ChannelId</td>\n",
       "      <td>Identifies if customer used web,Android, IOS, ...</td>\n",
       "    </tr>\n",
       "    <tr>\n",
       "      <th>11</th>\n",
       "      <td>Amount</td>\n",
       "      <td>Value of the transaction. Positive for debits ...</td>\n",
       "    </tr>\n",
       "    <tr>\n",
       "      <th>12</th>\n",
       "      <td>Value</td>\n",
       "      <td>Absolute value of the amount</td>\n",
       "    </tr>\n",
       "    <tr>\n",
       "      <th>13</th>\n",
       "      <td>TransactionStartTime</td>\n",
       "      <td>Transaction start time</td>\n",
       "    </tr>\n",
       "    <tr>\n",
       "      <th>14</th>\n",
       "      <td>PricingStrategy</td>\n",
       "      <td>Category of Xente's pricing structure for merc...</td>\n",
       "    </tr>\n",
       "    <tr>\n",
       "      <th>15</th>\n",
       "      <td>FraudResult</td>\n",
       "      <td>Fraud status of transaction 1 -yes or 0-No</td>\n",
       "    </tr>\n",
       "  </tbody>\n",
       "</table>\n",
       "</div>"
      ],
      "text/plain": [
       "             Column Name                                         Definition\n",
       "0          TransactionId         Unique �transaction identifier on platform\n",
       "1                BatchId  Unique number assigned to a batch of transacti...\n",
       "2              AccountId  Unique number identifying the customer on plat...\n",
       "3         SubscriptionId  Unique number identifying the customer subscri...\n",
       "4             CustomerId              Unique identifier attached to Account\n",
       "5           CurrencyCode                                   Country currency\n",
       "6            CountryCode             Numerical geographical code of country\n",
       "7             ProviderId                   Source provider of Item �bought.\n",
       "8              ProductId                            Item name being bought.\n",
       "9        ProductCategory  ProductIds are organized into these broader pr...\n",
       "10             ChannelId  Identifies if customer used web,Android, IOS, ...\n",
       "11                Amount  Value of the transaction. Positive for debits ...\n",
       "12                 Value                       Absolute value of the amount\n",
       "13  TransactionStartTime                             Transaction start time\n",
       "14       PricingStrategy  Category of Xente's pricing structure for merc...\n",
       "15           FraudResult         Fraud status of transaction 1 -yes or 0-No"
      ]
     },
     "execution_count": 2,
     "metadata": {},
     "output_type": "execute_result"
    }
   ],
   "source": [
    "# Xente variable definitions\n",
    "variable_def =pd.read_csv('data/Xente_Variable_Definitions.csv')\n",
    "variable_def"
   ]
  },
  {
   "cell_type": "markdown",
   "metadata": {},
   "source": [
    "The data is split into test and train already:"
   ]
  },
  {
   "cell_type": "code",
   "execution_count": 3,
   "metadata": {},
   "outputs": [],
   "source": [
    "test_raw =pd.read_csv('data/test.csv')\n",
    "train_raw =pd.read_csv('data/training.csv')"
   ]
  },
  {
   "cell_type": "code",
   "execution_count": 4,
   "metadata": {},
   "outputs": [
    {
     "name": "stdout",
     "output_type": "stream",
     "text": [
      "<class 'pandas.core.frame.DataFrame'>\n",
      "RangeIndex: 45019 entries, 0 to 45018\n",
      "Data columns (total 15 columns):\n",
      " #   Column                Non-Null Count  Dtype  \n",
      "---  ------                --------------  -----  \n",
      " 0   TransactionId         45019 non-null  object \n",
      " 1   BatchId               45019 non-null  object \n",
      " 2   AccountId             45019 non-null  object \n",
      " 3   SubscriptionId        45019 non-null  object \n",
      " 4   CustomerId            45019 non-null  object \n",
      " 5   CurrencyCode          45019 non-null  object \n",
      " 6   CountryCode           45019 non-null  int64  \n",
      " 7   ProviderId            45019 non-null  object \n",
      " 8   ProductId             45019 non-null  object \n",
      " 9   ProductCategory       45019 non-null  object \n",
      " 10  ChannelId             45019 non-null  object \n",
      " 11  Amount                45019 non-null  float64\n",
      " 12  Value                 45019 non-null  int64  \n",
      " 13  TransactionStartTime  45019 non-null  object \n",
      " 14  PricingStrategy       45019 non-null  int64  \n",
      "dtypes: float64(1), int64(3), object(11)\n",
      "memory usage: 5.2+ MB\n"
     ]
    }
   ],
   "source": [
    "test_raw.info()"
   ]
  },
  {
   "cell_type": "code",
   "execution_count": 5,
   "metadata": {},
   "outputs": [
    {
     "name": "stdout",
     "output_type": "stream",
     "text": [
      "<class 'pandas.core.frame.DataFrame'>\n",
      "RangeIndex: 95662 entries, 0 to 95661\n",
      "Data columns (total 16 columns):\n",
      " #   Column                Non-Null Count  Dtype  \n",
      "---  ------                --------------  -----  \n",
      " 0   TransactionId         95662 non-null  object \n",
      " 1   BatchId               95662 non-null  object \n",
      " 2   AccountId             95662 non-null  object \n",
      " 3   SubscriptionId        95662 non-null  object \n",
      " 4   CustomerId            95662 non-null  object \n",
      " 5   CurrencyCode          95662 non-null  object \n",
      " 6   CountryCode           95662 non-null  int64  \n",
      " 7   ProviderId            95662 non-null  object \n",
      " 8   ProductId             95662 non-null  object \n",
      " 9   ProductCategory       95662 non-null  object \n",
      " 10  ChannelId             95662 non-null  object \n",
      " 11  Amount                95662 non-null  float64\n",
      " 12  Value                 95662 non-null  int64  \n",
      " 13  TransactionStartTime  95662 non-null  object \n",
      " 14  PricingStrategy       95662 non-null  int64  \n",
      " 15  FraudResult           95662 non-null  int64  \n",
      "dtypes: float64(1), int64(4), object(11)\n",
      "memory usage: 11.7+ MB\n"
     ]
    }
   ],
   "source": [
    "train_raw.info()"
   ]
  },
  {
   "cell_type": "markdown",
   "metadata": {},
   "source": [
    "The final submission result should be showing the transaction id of the test data set and the predicted result of whether it is fraudulent or not:"
   ]
  },
  {
   "cell_type": "code",
   "execution_count": 6,
   "metadata": {},
   "outputs": [
    {
     "name": "stdout",
     "output_type": "stream",
     "text": [
      "(45019, 2)\n"
     ]
    },
    {
     "data": {
      "text/html": [
       "<div>\n",
       "<style scoped>\n",
       "    .dataframe tbody tr th:only-of-type {\n",
       "        vertical-align: middle;\n",
       "    }\n",
       "\n",
       "    .dataframe tbody tr th {\n",
       "        vertical-align: top;\n",
       "    }\n",
       "\n",
       "    .dataframe thead th {\n",
       "        text-align: right;\n",
       "    }\n",
       "</style>\n",
       "<table border=\"1\" class=\"dataframe\">\n",
       "  <thead>\n",
       "    <tr style=\"text-align: right;\">\n",
       "      <th></th>\n",
       "      <th>TransactionId</th>\n",
       "      <th>FraudResult</th>\n",
       "    </tr>\n",
       "  </thead>\n",
       "  <tbody>\n",
       "    <tr>\n",
       "      <th>0</th>\n",
       "      <td>TransactionId_50600</td>\n",
       "      <td>NaN</td>\n",
       "    </tr>\n",
       "    <tr>\n",
       "      <th>1</th>\n",
       "      <td>TransactionId_95109</td>\n",
       "      <td>NaN</td>\n",
       "    </tr>\n",
       "    <tr>\n",
       "      <th>2</th>\n",
       "      <td>TransactionId_47357</td>\n",
       "      <td>NaN</td>\n",
       "    </tr>\n",
       "    <tr>\n",
       "      <th>3</th>\n",
       "      <td>TransactionId_28185</td>\n",
       "      <td>NaN</td>\n",
       "    </tr>\n",
       "    <tr>\n",
       "      <th>4</th>\n",
       "      <td>TransactionId_22140</td>\n",
       "      <td>NaN</td>\n",
       "    </tr>\n",
       "  </tbody>\n",
       "</table>\n",
       "</div>"
      ],
      "text/plain": [
       "         TransactionId  FraudResult\n",
       "0  TransactionId_50600          NaN\n",
       "1  TransactionId_95109          NaN\n",
       "2  TransactionId_47357          NaN\n",
       "3  TransactionId_28185          NaN\n",
       "4  TransactionId_22140          NaN"
      ]
     },
     "execution_count": 6,
     "metadata": {},
     "output_type": "execute_result"
    }
   ],
   "source": [
    "sample_submission =pd.read_csv('data/sample_submission.csv')\n",
    "print(sample_submission.shape)\n",
    "sample_submission.head()"
   ]
  },
  {
   "cell_type": "markdown",
   "metadata": {},
   "source": [
    "- Training.csv: Transactions from 15 November 2018 to 13 February 2019, including whether or not each transaction is fraudulent. We will use this file to train our model.\n",
    "- Test.csv: Transactions from 13 February 2019 to 14 March 2019, not including whether or not each transaction is fraudulent. We will test our model on this file."
   ]
  },
  {
   "cell_type": "code",
   "execution_count": 7,
   "metadata": {},
   "outputs": [
    {
     "data": {
      "text/plain": [
       "Index(['TransactionId', 'BatchId', 'AccountId', 'SubscriptionId', 'CustomerId',\n",
       "       'CurrencyCode', 'CountryCode', 'ProviderId', 'ProductId',\n",
       "       'ProductCategory', 'ChannelId', 'Amount', 'Value',\n",
       "       'TransactionStartTime', 'PricingStrategy'],\n",
       "      dtype='object')"
      ]
     },
     "execution_count": 7,
     "metadata": {},
     "output_type": "execute_result"
    }
   ],
   "source": [
    "test_raw.columns"
   ]
  },
  {
   "cell_type": "code",
   "execution_count": 8,
   "metadata": {},
   "outputs": [
    {
     "data": {
      "text/plain": [
       "Index(['TransactionId', 'BatchId', 'AccountId', 'SubscriptionId', 'CustomerId',\n",
       "       'CurrencyCode', 'CountryCode', 'ProviderId', 'ProductId',\n",
       "       'ProductCategory', 'ChannelId', 'Amount', 'Value',\n",
       "       'TransactionStartTime', 'PricingStrategy', 'FraudResult'],\n",
       "      dtype='object')"
      ]
     },
     "execution_count": 8,
     "metadata": {},
     "output_type": "execute_result"
    }
   ],
   "source": [
    "train_raw.columns"
   ]
  },
  {
   "cell_type": "markdown",
   "metadata": {},
   "source": [
    "One of the challenges of fraud detection problems is that the data is highly imbalanced:"
   ]
  },
  {
   "cell_type": "code",
   "execution_count": 9,
   "metadata": {},
   "outputs": [
    {
     "data": {
      "text/plain": [
       "FraudResult\n",
       "0    95469\n",
       "1      193\n",
       "dtype: int64"
      ]
     },
     "execution_count": 9,
     "metadata": {},
     "output_type": "execute_result"
    }
   ],
   "source": [
    "train_raw.groupby('FraudResult').size()"
   ]
  },
  {
   "cell_type": "code",
   "execution_count": 10,
   "metadata": {},
   "outputs": [
    {
     "data": {
      "image/png": "[encoded data removed]",
      "text/plain": [
       "<Figure size 1000x800 with 1 Axes>"
      ]
     },
     "metadata": {},
     "output_type": "display_data"
    }
   ],
   "source": [
    "piedata = train_raw.groupby('FraudResult').count()\n",
    "\n",
    "#piedata\n",
    "piedata2 = piedata['TransactionId']\n",
    "piedata2\n",
    "\n",
    "# declaring data\n",
    "#data = train_raw(['FraudResult'])\n",
    "\n",
    "keys = ['non-fraudulent', 'fraudulent']\n",
    "  \n",
    "# declaring exploding pie\n",
    "explode = [0, 0.3]\n",
    "# define Seaborn color palette to use\n",
    "palette_color = sns.color_palette('bright')\n",
    "  \n",
    "# plotting data on chart\n",
    "plt.pie(piedata2, labels=keys, colors=palette_color,\n",
    "        explode=explode, autopct='%.2f')\n",
    "  \n",
    "# displaying chart\n",
    "plt.show()"
   ]
  },
  {
   "cell_type": "code",
   "execution_count": 11,
   "metadata": {},
   "outputs": [
    {
     "data": {
      "text/html": [
       "<div>\n",
       "<style scoped>\n",
       "    .dataframe tbody tr th:only-of-type {\n",
       "        vertical-align: middle;\n",
       "    }\n",
       "\n",
       "    .dataframe tbody tr th {\n",
       "        vertical-align: top;\n",
       "    }\n",
       "\n",
       "    .dataframe thead th {\n",
       "        text-align: right;\n",
       "    }\n",
       "</style>\n",
       "<table border=\"1\" class=\"dataframe\">\n",
       "  <thead>\n",
       "    <tr style=\"text-align: right;\">\n",
       "      <th></th>\n",
       "      <th>TransactionId</th>\n",
       "      <th>BatchId</th>\n",
       "      <th>AccountId</th>\n",
       "      <th>SubscriptionId</th>\n",
       "      <th>CustomerId</th>\n",
       "      <th>CurrencyCode</th>\n",
       "      <th>CountryCode</th>\n",
       "      <th>ProviderId</th>\n",
       "      <th>ProductId</th>\n",
       "      <th>ProductCategory</th>\n",
       "      <th>ChannelId</th>\n",
       "      <th>Amount</th>\n",
       "      <th>Value</th>\n",
       "      <th>TransactionStartTime</th>\n",
       "      <th>PricingStrategy</th>\n",
       "      <th>FraudResult</th>\n",
       "    </tr>\n",
       "  </thead>\n",
       "  <tbody>\n",
       "    <tr>\n",
       "      <th>0</th>\n",
       "      <td>TransactionId_76871</td>\n",
       "      <td>BatchId_36123</td>\n",
       "      <td>AccountId_3957</td>\n",
       "      <td>SubscriptionId_887</td>\n",
       "      <td>CustomerId_4406</td>\n",
       "      <td>UGX</td>\n",
       "      <td>256</td>\n",
       "      <td>ProviderId_6</td>\n",
       "      <td>ProductId_10</td>\n",
       "      <td>airtime</td>\n",
       "      <td>ChannelId_3</td>\n",
       "      <td>1000.0</td>\n",
       "      <td>1000</td>\n",
       "      <td>2018-11-15T02:18:49Z</td>\n",
       "      <td>2</td>\n",
       "      <td>0</td>\n",
       "    </tr>\n",
       "    <tr>\n",
       "      <th>1</th>\n",
       "      <td>TransactionId_73770</td>\n",
       "      <td>BatchId_15642</td>\n",
       "      <td>AccountId_4841</td>\n",
       "      <td>SubscriptionId_3829</td>\n",
       "      <td>CustomerId_4406</td>\n",
       "      <td>UGX</td>\n",
       "      <td>256</td>\n",
       "      <td>ProviderId_4</td>\n",
       "      <td>ProductId_6</td>\n",
       "      <td>financial_services</td>\n",
       "      <td>ChannelId_2</td>\n",
       "      <td>-20.0</td>\n",
       "      <td>20</td>\n",
       "      <td>2018-11-15T02:19:08Z</td>\n",
       "      <td>2</td>\n",
       "      <td>0</td>\n",
       "    </tr>\n",
       "    <tr>\n",
       "      <th>2</th>\n",
       "      <td>TransactionId_26203</td>\n",
       "      <td>BatchId_53941</td>\n",
       "      <td>AccountId_4229</td>\n",
       "      <td>SubscriptionId_222</td>\n",
       "      <td>CustomerId_4683</td>\n",
       "      <td>UGX</td>\n",
       "      <td>256</td>\n",
       "      <td>ProviderId_6</td>\n",
       "      <td>ProductId_1</td>\n",
       "      <td>airtime</td>\n",
       "      <td>ChannelId_3</td>\n",
       "      <td>500.0</td>\n",
       "      <td>500</td>\n",
       "      <td>2018-11-15T02:44:21Z</td>\n",
       "      <td>2</td>\n",
       "      <td>0</td>\n",
       "    </tr>\n",
       "    <tr>\n",
       "      <th>3</th>\n",
       "      <td>TransactionId_380</td>\n",
       "      <td>BatchId_102363</td>\n",
       "      <td>AccountId_648</td>\n",
       "      <td>SubscriptionId_2185</td>\n",
       "      <td>CustomerId_988</td>\n",
       "      <td>UGX</td>\n",
       "      <td>256</td>\n",
       "      <td>ProviderId_1</td>\n",
       "      <td>ProductId_21</td>\n",
       "      <td>utility_bill</td>\n",
       "      <td>ChannelId_3</td>\n",
       "      <td>20000.0</td>\n",
       "      <td>21800</td>\n",
       "      <td>2018-11-15T03:32:55Z</td>\n",
       "      <td>2</td>\n",
       "      <td>0</td>\n",
       "    </tr>\n",
       "    <tr>\n",
       "      <th>4</th>\n",
       "      <td>TransactionId_28195</td>\n",
       "      <td>BatchId_38780</td>\n",
       "      <td>AccountId_4841</td>\n",
       "      <td>SubscriptionId_3829</td>\n",
       "      <td>CustomerId_988</td>\n",
       "      <td>UGX</td>\n",
       "      <td>256</td>\n",
       "      <td>ProviderId_4</td>\n",
       "      <td>ProductId_6</td>\n",
       "      <td>financial_services</td>\n",
       "      <td>ChannelId_2</td>\n",
       "      <td>-644.0</td>\n",
       "      <td>644</td>\n",
       "      <td>2018-11-15T03:34:21Z</td>\n",
       "      <td>2</td>\n",
       "      <td>0</td>\n",
       "    </tr>\n",
       "  </tbody>\n",
       "</table>\n",
       "</div>"
      ],
      "text/plain": [
       "         TransactionId         BatchId       AccountId       SubscriptionId  \\\n",
       "0  TransactionId_76871   BatchId_36123  AccountId_3957   SubscriptionId_887   \n",
       "1  TransactionId_73770   BatchId_15642  AccountId_4841  SubscriptionId_3829   \n",
       "2  TransactionId_26203   BatchId_53941  AccountId_4229   SubscriptionId_222   \n",
       "3    TransactionId_380  BatchId_102363   AccountId_648  SubscriptionId_2185   \n",
       "4  TransactionId_28195   BatchId_38780  AccountId_4841  SubscriptionId_3829   \n",
       "\n",
       "        CustomerId CurrencyCode  CountryCode    ProviderId     ProductId  \\\n",
       "0  CustomerId_4406          UGX          256  ProviderId_6  ProductId_10   \n",
       "1  CustomerId_4406          UGX          256  ProviderId_4   ProductId_6   \n",
       "2  CustomerId_4683          UGX          256  ProviderId_6   ProductId_1   \n",
       "3   CustomerId_988          UGX          256  ProviderId_1  ProductId_21   \n",
       "4   CustomerId_988          UGX          256  ProviderId_4   ProductId_6   \n",
       "\n",
       "      ProductCategory    ChannelId   Amount  Value  TransactionStartTime  \\\n",
       "0             airtime  ChannelId_3   1000.0   1000  2018-11-15T02:18:49Z   \n",
       "1  financial_services  ChannelId_2    -20.0     20  2018-11-15T02:19:08Z   \n",
       "2             airtime  ChannelId_3    500.0    500  2018-11-15T02:44:21Z   \n",
       "3        utility_bill  ChannelId_3  20000.0  21800  2018-11-15T03:32:55Z   \n",
       "4  financial_services  ChannelId_2   -644.0    644  2018-11-15T03:34:21Z   \n",
       "\n",
       "   PricingStrategy  FraudResult  \n",
       "0                2            0  \n",
       "1                2            0  \n",
       "2                2            0  \n",
       "3                2            0  \n",
       "4                2            0  "
      ]
     },
     "execution_count": 11,
     "metadata": {},
     "output_type": "execute_result"
    }
   ],
   "source": [
    "train_raw.head()"
   ]
  },
  {
   "cell_type": "markdown",
   "metadata": {},
   "source": [
    "# A closer look at the fraudulent incidences"
   ]
  },
  {
   "cell_type": "code",
   "execution_count": 12,
   "metadata": {},
   "outputs": [
    {
     "name": "stdout",
     "output_type": "stream",
     "text": [
      "Number of fraudulent Batches: 183\n",
      "\n",
      "\n",
      "Number of fraudulent Accounts: 52\n",
      "Number of fraudulent Subscriptions: 52\n",
      "Number of fraudulent Customers: 54\n",
      "\n",
      "\n",
      "Number of fraudulent Providers: 5\n",
      "Number of all Providers: 6\n",
      "\n",
      "\n",
      "Number of fraudulent Products: 9\n",
      "Number of all Products: 23\n",
      "\n",
      "\n",
      "Number of fraudulent Product Category: 4\n",
      "Number of all Product Category: 9\n",
      "\n",
      "\n",
      "Number of fraudulent Channels: 3\n",
      "Number of all Channels: 4\n",
      "\n",
      "\n",
      "Number of fraudulent Pricing Strategies: 4\n",
      "Number of all Pricing Strategies: 4\n"
     ]
    }
   ],
   "source": [
    "# Create a dataframe for fraud cases\n",
    "fraud_raw = train_raw[train_raw['FraudResult'] == 1]\n",
    "\n",
    "# Number of unique features that are fraudulent compared to the train dataset\n",
    "print(\"Number of fraudulent Batches:\", fraud_raw['BatchId'].nunique())\n",
    "print('\\n')\n",
    "print(\"Number of fraudulent Accounts:\", fraud_raw['AccountId'].nunique())\n",
    "print(\"Number of fraudulent Subscriptions:\", fraud_raw['SubscriptionId'].nunique())\n",
    "print(\"Number of fraudulent Customers:\", fraud_raw['CustomerId'].nunique())\n",
    "print('\\n')\n",
    "print(\"Number of fraudulent Providers:\", fraud_raw['ProviderId'].nunique())\n",
    "print(\"Number of all Providers:\", train_raw['ProviderId'].nunique())\n",
    "print('\\n')\n",
    "print(\"Number of fraudulent Products:\", fraud_raw['ProductId'].nunique())\n",
    "print(\"Number of all Products:\", train_raw['ProductId'].nunique())\n",
    "print('\\n')\n",
    "print(\"Number of fraudulent Product Category:\", fraud_raw['ProductCategory'].nunique())\n",
    "print(\"Number of all Product Category:\", train_raw['ProductCategory'].nunique())\n",
    "print('\\n')\n",
    "print(\"Number of fraudulent Channels:\", fraud_raw['ChannelId'].nunique())\n",
    "print(\"Number of all Channels:\", train_raw['ChannelId'].nunique())\n",
    "print('\\n')\n",
    "print(\"Number of fraudulent Pricing Strategies:\", fraud_raw['PricingStrategy'].nunique())\n",
    "print(\"Number of all Pricing Strategies:\", train_raw['PricingStrategy'].nunique())\n"
   ]
  },
  {
   "cell_type": "markdown",
   "metadata": {},
   "source": [
    "From above, the batchid doesnt seem a good feature to use. The account/subscription/customer show that the same account/subscription/customer tend to fraud more than once, therefore creating a boolean of whether the account has a fraud history could be a good indicator of fraud prediction. The product and product category seem to centralise more on certain categories, making them possible indicators of fraud as well. "
   ]
  },
  {
   "cell_type": "code",
   "execution_count": 13,
   "metadata": {},
   "outputs": [
    {
     "data": {
      "text/plain": [
       "<AxesSubplot:>"
      ]
     },
     "execution_count": 13,
     "metadata": {},
     "output_type": "execute_result"
    },
    {
     "data": {
      "image/png": "[encoded data removed]",
      "text/plain": [
       "<Figure size 1000x800 with 2 Axes>"
      ]
     },
     "metadata": {},
     "output_type": "display_data"
    }
   ],
   "source": [
    "# Plot distributions of features and compare between fraud and non-fraud side by side\n",
    "\n",
    "fig, axes = plt.subplots(1, 2)\n",
    "\n",
    "fraud_raw.hist('PricingStrategy', color='red', alpha=0.8, ax=axes[0])\n",
    "train_raw[train_raw['FraudResult']==0]['PricingStrategy'].hist(color='green', label='FraudResult: 1', alpha=0.8, ax=axes[1])"
   ]
  },
  {
   "cell_type": "markdown",
   "metadata": {},
   "source": [
    "Pricing strategy doesnt seem to be systematically different for fraud and non-fraud cases."
   ]
  },
  {
   "cell_type": "markdown",
   "metadata": {},
   "source": [
    "# Data cleaning and feature engineering"
   ]
  },
  {
   "cell_type": "markdown",
   "metadata": {},
   "source": [
    "### Feature engineering #1: Value category - large or small"
   ]
  },
  {
   "cell_type": "code",
   "execution_count": 14,
   "metadata": {},
   "outputs": [
    {
     "data": {
      "image/png": "[encoded data removed]",
      "text/plain": [
       "<Figure size 1000x800 with 1 Axes>"
      ]
     },
     "metadata": {},
     "output_type": "display_data"
    }
   ],
   "source": [
    "# Plot the value and compare fraud and non fraud values\n",
    "\n",
    "train_raw_value = train_raw.Value\n",
    "FraudResult_raw = train_raw.FraudResult\n",
    "\n",
    "#new\n",
    "\n",
    "fraudulent = train_raw.loc[(train_raw[\"FraudResult\"] == 1)]\n",
    "nonfraud = train_raw.loc[(train_raw[\"FraudResult\"] == 0)] \n",
    "boxdata = [fraudulent.Value, nonfraud.Value]\n",
    "\n",
    "plt.boxplot(boxdata)\n",
    "plt.show()"
   ]
  },
  {
   "cell_type": "markdown",
   "metadata": {},
   "source": [
    "It shows that when the value is above a certain threshold, all the cases are fraudulent."
   ]
  },
  {
   "cell_type": "code",
   "execution_count": 15,
   "metadata": {},
   "outputs": [
    {
     "data": {
      "text/plain": [
       "2400000"
      ]
     },
     "execution_count": 15,
     "metadata": {},
     "output_type": "execute_result"
    }
   ],
   "source": [
    "# Get the maximum value for a non-fraudulent transaction to determine the threshold for \n",
    "# whether the transaction value is \"large\" or \"small\".\n",
    "\n",
    "train_raw[(train_raw.FraudResult == 0)]['Value'].max()"
   ]
  },
  {
   "cell_type": "code",
   "execution_count": 16,
   "metadata": {},
   "outputs": [],
   "source": [
    "# Create a new dummy feature 'Value_cat' based on the above threshold.\n",
    "\n",
    "train_raw['Value_cat'] = pd.cut(train_raw['Value'], bins=[0, 2400000, float('Inf')], labels=[0, 1])\n",
    "\n",
    "# 0 - small\n",
    "# 1 - large"
   ]
  },
  {
   "cell_type": "code",
   "execution_count": 17,
   "metadata": {},
   "outputs": [
    {
     "data": {
      "text/plain": [
       "Value_cat\n",
       "0    95621\n",
       "1       41\n",
       "Name: TransactionId, dtype: int64"
      ]
     },
     "execution_count": 17,
     "metadata": {},
     "output_type": "execute_result"
    }
   ],
   "source": [
    "train_raw.groupby('Value_cat').count()['TransactionId']"
   ]
  },
  {
   "cell_type": "markdown",
   "metadata": {},
   "source": [
    "The new categorical feature \"Value_cat\" divides the transaction value into either \"large\" or \"small\". All 41 large transactions are fraudulent, which makes \"Value_cat\" a factor to determine fraud."
   ]
  },
  {
   "cell_type": "markdown",
   "metadata": {},
   "source": [
    "### Feature engineering #2: direction of transaction (incoming/outgoing)"
   ]
  },
  {
   "cell_type": "code",
   "execution_count": 18,
   "metadata": {},
   "outputs": [],
   "source": [
    "# Create a new feature 'trans_direction' based on whether it is negative or positive\n",
    "\n",
    "\n",
    "train_raw['trans_direction'] = 1\n",
    "train_raw.loc[(train_raw['Amount'] >= 0), 'trans_direction'] = 0\n",
    "\n",
    "# 1 - outgoing\n",
    "# 2 - incoming"
   ]
  },
  {
   "cell_type": "code",
   "execution_count": 19,
   "metadata": {},
   "outputs": [
    {
     "data": {
      "text/plain": [
       "trans_direction\n",
       "0    188\n",
       "1      5\n",
       "Name: TransactionId, dtype: int64"
      ]
     },
     "execution_count": 19,
     "metadata": {},
     "output_type": "execute_result"
    }
   ],
   "source": [
    "train_raw[(train_raw.FraudResult == 1)].groupby('trans_direction').count()['TransactionId']"
   ]
  },
  {
   "cell_type": "code",
   "execution_count": 20,
   "metadata": {},
   "outputs": [
    {
     "data": {
      "text/plain": [
       "trans_direction\n",
       "0    57285\n",
       "1    38184\n",
       "Name: TransactionId, dtype: int64"
      ]
     },
     "execution_count": 20,
     "metadata": {},
     "output_type": "execute_result"
    }
   ],
   "source": [
    "train_raw[(train_raw.FraudResult == 0)].groupby('trans_direction').count()['TransactionId']"
   ]
  },
  {
   "cell_type": "markdown",
   "metadata": {},
   "source": [
    "We can see that the fraudulent transactions are significantly more in incoming direction than outgoing, therefore this feature should be a good indicator for fraud detection."
   ]
  },
  {
   "cell_type": "markdown",
   "metadata": {},
   "source": [
    "### Feature engineering #3: account fraud history (True/False)"
   ]
  },
  {
   "cell_type": "code",
   "execution_count": 21,
   "metadata": {},
   "outputs": [
    {
     "name": "stdout",
     "output_type": "stream",
     "text": [
      "Average number of frauds per account id: 3.71\n"
     ]
    }
   ],
   "source": [
    "print(f'Average number of frauds per account id:', round(fraud_raw.AccountId.count()/fraud_raw.AccountId.nunique(),2))"
   ]
  },
  {
   "cell_type": "markdown",
   "metadata": {},
   "source": [
    "Accounts with a fraud history is high risk account and should be marked in the dataset."
   ]
  },
  {
   "cell_type": "code",
   "execution_count": 22,
   "metadata": {},
   "outputs": [],
   "source": [
    "# Create a history data frame to store the account id and the fraud result \n",
    "history = train_raw.groupby(by= 'AccountId')['FraudResult'].max().reset_index()\n",
    "history_dict = {}\n",
    "\n",
    "# For loop \n",
    "for idx, x in history.iterrows():\n",
    "    history_dict[x[0]] = x[1]"
   ]
  },
  {
   "cell_type": "code",
   "execution_count": 23,
   "metadata": {},
   "outputs": [],
   "source": [
    "train_raw['fraud_history'] = train_raw.AccountId"
   ]
  },
  {
   "cell_type": "code",
   "execution_count": 24,
   "metadata": {},
   "outputs": [],
   "source": [
    "train_raw['fraud_history'] = train_raw['fraud_history'].map(history_dict)"
   ]
  },
  {
   "cell_type": "markdown",
   "metadata": {},
   "source": [
    "Now we updated a new boolean column which is 1 when the account is ever fraudulent and 0 otherwise."
   ]
  },
  {
   "cell_type": "code",
   "execution_count": 25,
   "metadata": {},
   "outputs": [],
   "source": [
    "# code snippet using sql\n",
    "\n",
    "# select accountid, \n",
    "# case when accountid in (\n",
    "# select distint accountid from train_raw where fraudresult = 1) then 1\n",
    "# else 0 end as fraud_history\n",
    "# from train_raw"
   ]
  },
  {
   "cell_type": "markdown",
   "metadata": {},
   "source": [
    "### Feature engineering #4: transaction hour of day & day of week"
   ]
  },
  {
   "cell_type": "markdown",
   "metadata": {},
   "source": [
    "It is likely that fraudulent cases happen at certain hours of a day or days of a week."
   ]
  },
  {
   "cell_type": "code",
   "execution_count": 26,
   "metadata": {},
   "outputs": [],
   "source": [
    "train_raw['TransactionStartTime']= pd.to_datetime(train_raw['TransactionStartTime'])\n",
    "fraud_raw['TransactionStartTime']= pd.to_datetime(fraud_raw['TransactionStartTime'])"
   ]
  },
  {
   "cell_type": "code",
   "execution_count": 27,
   "metadata": {},
   "outputs": [],
   "source": [
    "from datetime import datetime \n",
    "\n",
    "# Hour of day\n",
    "train_raw['Transaction_hour'] = train_raw['TransactionStartTime'].dt.strftime(\"%H\").astype(str).astype(int)\n",
    "fraud_raw['Transaction_hour'] = fraud_raw['TransactionStartTime'].dt.strftime(\"%H\").astype(str).astype(int)\n",
    "\n",
    "# Day of week\n",
    "train_raw['Transaction_weekday'] = train_raw['TransactionStartTime'].dt.strftime(\"%u\").astype(str).astype(int)\n",
    "fraud_raw['Transaction_weekday'] = fraud_raw['TransactionStartTime'].dt.strftime(\"%u\").astype(str).astype(int)\n"
   ]
  },
  {
   "cell_type": "code",
   "execution_count": 28,
   "metadata": {},
   "outputs": [
    {
     "data": {
      "text/plain": [
       "<AxesSubplot:ylabel='Frequency'>"
      ]
     },
     "execution_count": 28,
     "metadata": {},
     "output_type": "execute_result"
    },
    {
     "data": {
      "image/png": "[encoded data removed]",
      "text/plain": [
       "<Figure size 1000x800 with 1 Axes>"
      ]
     },
     "metadata": {},
     "output_type": "display_data"
    }
   ],
   "source": [
    "train_raw.Transaction_hour.plot(kind='hist')"
   ]
  },
  {
   "cell_type": "code",
   "execution_count": 29,
   "metadata": {},
   "outputs": [
    {
     "data": {
      "text/plain": [
       "<AxesSubplot:ylabel='Frequency'>"
      ]
     },
     "execution_count": 29,
     "metadata": {},
     "output_type": "execute_result"
    },
    {
     "data": {
      "image/png": "[encoded data removed]",
      "text/plain": [
       "<Figure size 1000x800 with 1 Axes>"
      ]
     },
     "metadata": {},
     "output_type": "display_data"
    }
   ],
   "source": [
    "fraud_raw.Transaction_hour.plot(kind='hist')"
   ]
  },
  {
   "cell_type": "code",
   "execution_count": 30,
   "metadata": {},
   "outputs": [
    {
     "data": {
      "text/plain": [
       "Transaction_hour\n",
       "0      1\n",
       "3      7\n",
       "5      6\n",
       "6      7\n",
       "7      9\n",
       "8      8\n",
       "9     10\n",
       "10     4\n",
       "11     9\n",
       "12    24\n",
       "13    17\n",
       "14     8\n",
       "15     8\n",
       "16    18\n",
       "17    12\n",
       "18    13\n",
       "19     4\n",
       "20     9\n",
       "21    15\n",
       "22     4\n",
       "Name: TransactionId, dtype: int64"
      ]
     },
     "execution_count": 30,
     "metadata": {},
     "output_type": "execute_result"
    }
   ],
   "source": [
    "fraud_raw.groupby('Transaction_hour').count()['TransactionId']"
   ]
  },
  {
   "cell_type": "code",
   "execution_count": 78,
   "metadata": {},
   "outputs": [
    {
     "ename": "SyntaxError",
     "evalue": "EOL while scanning string literal (2998021246.py, line 1)",
     "output_type": "error",
     "traceback": [
      "\u001b[0;36m  Cell \u001b[0;32mIn [78], line 1\u001b[0;36m\u001b[0m\n\u001b[0;31m    plt.hist(train_raw.Transaction_weekday, bins=7, alpha = 0.7, edgecolor=\"#6A9662“)\u001b[0m\n\u001b[0m                                                                                     ^\u001b[0m\n\u001b[0;31mSyntaxError\u001b[0m\u001b[0;31m:\u001b[0m EOL while scanning string literal\n"
     ]
    }
   ],
   "source": [
    "plt.hist(train_raw.Transaction_weekday, bins=7, alpha = 0.7, edgecolor=\"#6A9662“)"
   ]
  },
  {
   "cell_type": "code",
   "execution_count": 32,
   "metadata": {},
   "outputs": [
    {
     "data": {
      "text/plain": [
       "<AxesSubplot:ylabel='Frequency'>"
      ]
     },
     "execution_count": 32,
     "metadata": {},
     "output_type": "execute_result"
    },
    {
     "data": {
      "image/png": "[encoded data removed]",
      "text/plain": [
       "<Figure size 1000x800 with 1 Axes>"
      ]
     },
     "metadata": {},
     "output_type": "display_data"
    }
   ],
   "source": [
    "fraud_raw.Transaction_weekday.plot(kind='hist')"
   ]
  },
  {
   "cell_type": "markdown",
   "metadata": {},
   "source": [
    "The distribution of fraudulent cases is different from the normal transactions. 12-13 o'clock see a peak in fraud and Sunday tend to have less frauds. Although normal transaction peaks on Friday, the fraud ones does not see a high volume on Friday."
   ]
  },
  {
   "cell_type": "markdown",
   "metadata": {},
   "source": [
    "### Feature engineering #5: Replace string with numeric values"
   ]
  },
  {
   "cell_type": "markdown",
   "metadata": {},
   "source": [
    "These features are strings and we want to remove the strings and only look at the numeric values: AccountId, ProviderId, ProductId, ChannelId"
   ]
  },
  {
   "cell_type": "code",
   "execution_count": 33,
   "metadata": {},
   "outputs": [],
   "source": [
    "train_raw['AccountId'] = train_raw['AccountId'].str.replace(r'\\D', '').astype(int)\n",
    "train_raw['ProviderId'] = train_raw['ProviderId'].str.replace(r'\\D', '').astype(int)\n",
    "train_raw['ProductId'] = train_raw['ProductId'].str.replace(r'\\D', '').astype(int)\n",
    "train_raw['ChannelId'] = train_raw['ChannelId'].str.replace(r'\\D', '').astype(int)"
   ]
  },
  {
   "cell_type": "markdown",
   "metadata": {},
   "source": [
    "With ProductCategory we assign numeric values as well:"
   ]
  },
  {
   "cell_type": "code",
   "execution_count": 34,
   "metadata": {},
   "outputs": [
    {
     "data": {
      "text/plain": [
       "array(['airtime', 'financial_services', 'utility_bill', 'data_bundles',\n",
       "       'tv', 'transport', 'ticket', 'movies', 'other'], dtype=object)"
      ]
     },
     "execution_count": 34,
     "metadata": {},
     "output_type": "execute_result"
    }
   ],
   "source": [
    "train_raw.ProductCategory.unique()"
   ]
  },
  {
   "cell_type": "code",
   "execution_count": 35,
   "metadata": {},
   "outputs": [],
   "source": [
    "train_raw.ProductCategory[train_raw.ProductCategory == 'airtime'] = 1\n",
    "train_raw.ProductCategory[train_raw.ProductCategory == 'financial_services'] = 2\n",
    "train_raw.ProductCategory[train_raw.ProductCategory == 'utility_bill'] = 3\n",
    "train_raw.ProductCategory[train_raw.ProductCategory == 'data_bundles'] = 4\n",
    "train_raw.ProductCategory[train_raw.ProductCategory == 'tv'] = 5\n",
    "train_raw.ProductCategory[train_raw.ProductCategory == 'transport'] = 6\n",
    "train_raw.ProductCategory[train_raw.ProductCategory == 'ticket'] = 7\n",
    "train_raw.ProductCategory[train_raw.ProductCategory == 'movies'] = 8\n",
    "train_raw.ProductCategory[train_raw.ProductCategory == 'other'] = 9"
   ]
  },
  {
   "cell_type": "markdown",
   "metadata": {},
   "source": [
    "# Clean dataset for analysis"
   ]
  },
  {
   "cell_type": "code",
   "execution_count": 36,
   "metadata": {},
   "outputs": [
    {
     "data": {
      "text/plain": [
       "Index(['TransactionId', 'BatchId', 'AccountId', 'SubscriptionId', 'CustomerId',\n",
       "       'CurrencyCode', 'CountryCode', 'ProviderId', 'ProductId',\n",
       "       'ProductCategory', 'ChannelId', 'Amount', 'Value',\n",
       "       'TransactionStartTime', 'PricingStrategy', 'FraudResult', 'Value_cat',\n",
       "       'trans_direction', 'fraud_history', 'Transaction_hour',\n",
       "       'Transaction_weekday'],\n",
       "      dtype='object')"
      ]
     },
     "execution_count": 36,
     "metadata": {},
     "output_type": "execute_result"
    }
   ],
   "source": [
    "# List the columns for selection\n",
    "train_raw.columns"
   ]
  },
  {
   "cell_type": "code",
   "execution_count": 37,
   "metadata": {},
   "outputs": [],
   "source": [
    "# Select columns and copy into a new data frame\n",
    "train = train_raw[['ProviderId', 'ProductId', 'ProductCategory', 'ChannelId', 'Value', 'PricingStrategy', \n",
    "'Value_cat', 'trans_direction', 'fraud_history', 'Transaction_hour', 'Transaction_weekday', 'FraudResult']].copy()"
   ]
  },
  {
   "cell_type": "markdown",
   "metadata": {},
   "source": [
    "# Train-test-split & Metric"
   ]
  },
  {
   "cell_type": "markdown",
   "metadata": {},
   "source": [
    "Before we start modeling we have to split our data into a train and test set and define a metric. We will choose a metric that takes precision and recall into account and evaluate our models using the f1-score."
   ]
  },
  {
   "cell_type": "code",
   "execution_count": 38,
   "metadata": {},
   "outputs": [],
   "source": [
    "# Define features and target variable\n",
    "X = train.drop(\"FraudResult\", axis=1)\n",
    "y = train.FraudResult"
   ]
  },
  {
   "cell_type": "code",
   "execution_count": 39,
   "metadata": {},
   "outputs": [],
   "source": [
    "# Split data into train and test set\n",
    "X_train, X_test, y_train, y_test = train_test_split(X, y, test_size = .3, random_state=RSEED)"
   ]
  },
  {
   "cell_type": "markdown",
   "metadata": {},
   "source": [
    "# Baseline model"
   ]
  },
  {
   "cell_type": "markdown",
   "metadata": {},
   "source": [
    "Before we start modeling we need to create a baseline model, which is basically an educated guess. From the scatter plot of the transaction value we can see that all transactions with value > 2,400,000 are fraudulent. As a simple baseline model we could assume that fraudulence is only related to the value and when value > 2,400,000 it is fraudulent and when value <= 2,400,000 it is not fraudulent. That is of course not completely correct but we only want to create a \"baseline\" that our more sophisticated models have to beat."
   ]
  },
  {
   "cell_type": "code",
   "execution_count": 40,
   "metadata": {},
   "outputs": [
    {
     "data": {
      "image/png": "[encoded data removed]",
      "text/plain": [
       "<Figure size 1000x800 with 1 Axes>"
      ]
     },
     "metadata": {},
     "output_type": "display_data"
    }
   ],
   "source": [
    "# Plot the value and compare fraud and non fraud values\n",
    "\n",
    "train_raw_value = train_raw.Value\n",
    "FraudResult_raw = train_raw.FraudResult\n",
    "\n",
    "#new\n",
    "\n",
    "fraudulent = train_raw.loc[(train_raw[\"FraudResult\"] == 1)]\n",
    "nonfraud = train_raw.loc[(train_raw[\"FraudResult\"] == 0)] \n",
    "boxdata = [fraudulent.Value, nonfraud.Value]\n",
    "\n",
    "plt.boxplot(boxdata)\n",
    "plt.show()"
   ]
  },
  {
   "cell_type": "code",
   "execution_count": 41,
   "metadata": {},
   "outputs": [
    {
     "data": {
      "text/plain": [
       "9880000"
      ]
     },
     "execution_count": 41,
     "metadata": {},
     "output_type": "execute_result"
    }
   ],
   "source": [
    "fraud_raw.Value.max()"
   ]
  },
  {
   "cell_type": "code",
   "execution_count": 42,
   "metadata": {},
   "outputs": [
    {
     "data": {
      "text/plain": [
       "2400000"
      ]
     },
     "execution_count": 42,
     "metadata": {},
     "output_type": "execute_result"
    }
   ],
   "source": [
    "train_raw[(train_raw[\"FraudResult\"] == 0)] .Value.max()"
   ]
  },
  {
   "cell_type": "code",
   "execution_count": 43,
   "metadata": {},
   "outputs": [],
   "source": [
    "# Defining baseline model\n",
    "def baseline_model(train):\n",
    "    y_pred = [1 if val > 2400000 else 0 for val in train.Value]\n",
    "    return y_pred"
   ]
  },
  {
   "cell_type": "code",
   "execution_count": 44,
   "metadata": {},
   "outputs": [],
   "source": [
    "# Compute predictions with baseline model for test set\n",
    "y_baseline_test = baseline_model(X_test)"
   ]
  },
  {
   "cell_type": "code",
   "execution_count": 45,
   "metadata": {},
   "outputs": [
    {
     "data": {
      "image/png": "[encoded data removed]",
      "text/plain": [
       "<Figure size 1000x800 with 2 Axes>"
      ]
     },
     "metadata": {},
     "output_type": "display_data"
    }
   ],
   "source": [
    "# Plot confusion matrix for baseline model\n",
    "cm_base = confusion_matrix(y_test, y_baseline_test)\n",
    "sns.set(font_scale=3.0)\n",
    "sns.heatmap(cm_base, cmap=\"PuRd\", annot=True, fmt='d');"
   ]
  },
  {
   "cell_type": "code",
   "execution_count": 46,
   "metadata": {},
   "outputs": [
    {
     "name": "stdout",
     "output_type": "stream",
     "text": [
      "              precision    recall  f1-score   support\n",
      "\n",
      "           0       1.00      1.00      1.00     28637\n",
      "           1       1.00      0.19      0.32        62\n",
      "\n",
      "    accuracy                           1.00     28699\n",
      "   macro avg       1.00      0.60      0.66     28699\n",
      "weighted avg       1.00      1.00      1.00     28699\n",
      "\n"
     ]
    }
   ],
   "source": [
    "# Calculate f1-score for baseline model\n",
    "print(classification_report(y_test, y_baseline_test))"
   ]
  },
  {
   "cell_type": "markdown",
   "metadata": {},
   "source": [
    "For fraud cases, the accuracy is very high (1.0) but the recall is very low (0.19), so we have a low F-1 score of 0.32."
   ]
  },
  {
   "cell_type": "markdown",
   "metadata": {},
   "source": [
    "# Logistic regression"
   ]
  },
  {
   "cell_type": "code",
   "execution_count": 47,
   "metadata": {},
   "outputs": [
    {
     "data": {
      "image/png": "[encoded data removed]",
      "text/plain": [
       "<Figure size 1000x800 with 2 Axes>"
      ]
     },
     "metadata": {},
     "output_type": "display_data"
    }
   ],
   "source": [
    "# Instantiate model and fit it on train data\n",
    "logreg = LogisticRegression()\n",
    "logreg.fit(X_train, y_train)\n",
    "\n",
    "# Make predictions for test set\n",
    "y_pred = logreg.predict(X_test)\n",
    "cm_log = confusion_matrix(y_test, y_pred)\n",
    "sns.set(font_scale=3.0)\n",
    "sns.heatmap(cm_log, cmap=\"PuRd\", annot=True, fmt='d');"
   ]
  },
  {
   "cell_type": "code",
   "execution_count": 48,
   "metadata": {},
   "outputs": [
    {
     "name": "stdout",
     "output_type": "stream",
     "text": [
      "              precision    recall  f1-score   support\n",
      "\n",
      "           0       1.00      1.00      1.00     28637\n",
      "           1       0.62      0.34      0.44        62\n",
      "\n",
      "    accuracy                           1.00     28699\n",
      "   macro avg       0.81      0.67      0.72     28699\n",
      "weighted avg       1.00      1.00      1.00     28699\n",
      "\n"
     ]
    }
   ],
   "source": [
    "# Print classification report\n",
    "print(classification_report(y_test, y_pred))"
   ]
  },
  {
   "cell_type": "markdown",
   "metadata": {},
   "source": [
    "The F1 score improved from 0.32 to 0.44 with the logistic regression."
   ]
  },
  {
   "cell_type": "markdown",
   "metadata": {},
   "source": [
    "# Decision tree"
   ]
  },
  {
   "cell_type": "code",
   "execution_count": 49,
   "metadata": {},
   "outputs": [
    {
     "data": {
      "text/plain": [
       "DecisionTreeClassifier(max_depth=3, min_samples_leaf=5)"
      ]
     },
     "execution_count": 49,
     "metadata": {},
     "output_type": "execute_result"
    }
   ],
   "source": [
    "# Creating the classifier object \n",
    "clf_gini = DecisionTreeClassifier(criterion = \"gini\", max_depth=3, min_samples_leaf=5)\n",
    "\n",
    "# Performing training \n",
    "clf_gini.fit(X_train, y_train)  "
   ]
  },
  {
   "cell_type": "code",
   "execution_count": 50,
   "metadata": {},
   "outputs": [
    {
     "data": {
      "text/plain": [
       "DecisionTreeClassifier(criterion='entropy', max_depth=3, min_samples_leaf=5)"
      ]
     },
     "execution_count": 50,
     "metadata": {},
     "output_type": "execute_result"
    }
   ],
   "source": [
    "# Decision tree with entropy \n",
    "clf_entropy = DecisionTreeClassifier(criterion = \"entropy\", max_depth = 3, min_samples_leaf = 5) \n",
    "  \n",
    "# Performing training \n",
    "clf_entropy.fit(X_train, y_train)"
   ]
  },
  {
   "cell_type": "code",
   "execution_count": 51,
   "metadata": {},
   "outputs": [
    {
     "name": "stdout",
     "output_type": "stream",
     "text": [
      "Gini Report : \n",
      "               precision    recall  f1-score   support\n",
      "\n",
      "           0       1.00      1.00      1.00     28637\n",
      "           1       1.00      0.74      0.85        62\n",
      "\n",
      "    accuracy                           1.00     28699\n",
      "   macro avg       1.00      0.87      0.93     28699\n",
      "weighted avg       1.00      1.00      1.00     28699\n",
      "\n"
     ]
    }
   ],
   "source": [
    "# Prediction on test with giniIndex \n",
    "y_pred_gini = clf_gini.predict(X_test)\n",
    "\n",
    "print(\"Gini Report : \\n\", classification_report(y_test, y_pred_gini))"
   ]
  },
  {
   "cell_type": "code",
   "execution_count": 52,
   "metadata": {},
   "outputs": [
    {
     "name": "stdout",
     "output_type": "stream",
     "text": [
      "Entropy Report : \n",
      "               precision    recall  f1-score   support\n",
      "\n",
      "           0       1.00      1.00      1.00     28637\n",
      "           1       1.00      0.74      0.85        62\n",
      "\n",
      "    accuracy                           1.00     28699\n",
      "   macro avg       1.00      0.87      0.93     28699\n",
      "weighted avg       1.00      1.00      1.00     28699\n",
      "\n"
     ]
    }
   ],
   "source": [
    "# Prediction on test with entropyIndex \n",
    "y_pred_entropy = clf_entropy.predict(X_test)\n",
    "\n",
    "print(\"Entropy Report : \\n\", classification_report(y_test, y_pred_entropy))"
   ]
  },
  {
   "cell_type": "code",
   "execution_count": 53,
   "metadata": {},
   "outputs": [
    {
     "data": {
      "image/png": "[encoded data removed]",
      "text/plain": [
       "<Figure size 1000x800 with 2 Axes>"
      ]
     },
     "metadata": {},
     "output_type": "display_data"
    }
   ],
   "source": [
    "cm_gini = confusion_matrix(y_test, y_pred_gini)\n",
    "sns.set(font_scale=3.0)\n",
    "sns.heatmap(cm_gini, cmap=\"PuRd\", annot=True, fmt='d');"
   ]
  },
  {
   "cell_type": "code",
   "execution_count": 79,
   "metadata": {},
   "outputs": [
    {
     "data": {
      "image/png": "[encoded data removed]",
      "text/plain": [
       "<Figure size 1000x800 with 2 Axes>"
      ]
     },
     "metadata": {},
     "output_type": "display_data"
    }
   ],
   "source": [
    "cm_entropy = confusion_matrix(y_test, y_pred_entropy)\n",
    "sns.set(font_scale=3.0)\n",
    "sns.heatmap(cm_entropy, cmap=\"PuRd\", annot=True, fmt='d');"
   ]
  },
  {
   "cell_type": "markdown",
   "metadata": {},
   "source": [
    "The F1 score using both Gini and Entropy are 0.85 for the fraud cases, which is a big improvement. The precision is 1.0 and recall is 0.74 for the fraud cases which means that all of the fraud prediction are correct and we can predict 74% of all the fraud cases in the test dataset. "
   ]
  },
  {
   "cell_type": "markdown",
   "metadata": {},
   "source": [
    "# Random forest"
   ]
  },
  {
   "cell_type": "code",
   "execution_count": 55,
   "metadata": {},
   "outputs": [],
   "source": [
    "rnc = RandomForestClassifier(n_estimators = 100)\n",
    "rnc.fit(X_train, y_train)\n",
    "y_pred_rf = rnc.predict(X_test)"
   ]
  },
  {
   "cell_type": "code",
   "execution_count": 81,
   "metadata": {},
   "outputs": [
    {
     "data": {
      "image/png": "[encoded data removed]",
      "text/plain": [
       "<Figure size 1000x800 with 2 Axes>"
      ]
     },
     "metadata": {},
     "output_type": "display_data"
    }
   ],
   "source": [
    "cm_rf = confusion_matrix(y_test, y_pred_rf)\n",
    "sns.set(font_scale=3.0)\n",
    "sns.heatmap(cm_rf, cmap=\"PuRd\", annot=True, fmt='d');"
   ]
  },
  {
   "cell_type": "code",
   "execution_count": 56,
   "metadata": {},
   "outputs": [
    {
     "name": "stdout",
     "output_type": "stream",
     "text": [
      "Random Forest Report : \n",
      "               precision    recall  f1-score   support\n",
      "\n",
      "           0       1.00      1.00      1.00     28637\n",
      "           1       0.94      0.82      0.88        62\n",
      "\n",
      "    accuracy                           1.00     28699\n",
      "   macro avg       0.97      0.91      0.94     28699\n",
      "weighted avg       1.00      1.00      1.00     28699\n",
      "\n"
     ]
    }
   ],
   "source": [
    "print(\"Random Forest Report : \\n\", classification_report(y_test, y_pred_rf))"
   ]
  },
  {
   "cell_type": "markdown",
   "metadata": {},
   "source": [
    "The random forest result is even better - F1 score is improved to 0.88. Precision and recall for fraud are 0.94 and 0.82, respectively. It means that we can predict 82% of all the true fraud cases in the test data set and the precision of all predicted frauds that are truly frauds is 94%. "
   ]
  },
  {
   "cell_type": "markdown",
   "metadata": {},
   "source": [
    "# Dealing with imbalanced dataset"
   ]
  },
  {
   "cell_type": "markdown",
   "metadata": {},
   "source": [
    "Imbalanced classes are a common problem in machine learning classification where there are a disproportionate ratio of observations in each class. Class imbalance can be found in many different areas including medical diagnosis, spam filtering, and fraud detection. In our case, we have a dataset of 95469 non-fraud cases and 193 fraud cases so the imbalance is quite severe."
   ]
  },
  {
   "cell_type": "markdown",
   "metadata": {},
   "source": [
    "## Generate synthetic samples"
   ]
  },
  {
   "cell_type": "markdown",
   "metadata": {},
   "source": [
    "SMOTE (Synthetic Minority Oversampling TEchnique) consists of synthesizing elements for the minority class, based on those that already exist. It works randomly picking a point from the minority class and computing the k-nearest neighbors for this point. The synthetic points are added between the chosen point and its neighbors."
   ]
  },
  {
   "cell_type": "code",
   "execution_count": 57,
   "metadata": {},
   "outputs": [],
   "source": [
    "# Resample the dataset using SMOTE\n",
    "smote = SMOTE(random_state=RSEED, sampling_strategy=0.5)\n",
    "X_sm, y_sm = smote.fit_resample(X_train, y_train)"
   ]
  },
  {
   "cell_type": "code",
   "execution_count": 58,
   "metadata": {},
   "outputs": [
    {
     "data": {
      "text/plain": [
       "0    66832\n",
       "1    33416\n",
       "Name: FraudResult, dtype: int64"
      ]
     },
     "execution_count": 58,
     "metadata": {},
     "output_type": "execute_result"
    }
   ],
   "source": [
    "# The value distribution after using SMOTE\n",
    "y_sm.value_counts()"
   ]
  },
  {
   "cell_type": "code",
   "execution_count": 59,
   "metadata": {},
   "outputs": [],
   "source": [
    "# concat X_sm, y_sm to a new data frame\n",
    "df_train = pd.concat([X_sm, y_sm], axis = 1)"
   ]
  },
  {
   "cell_type": "code",
   "execution_count": 60,
   "metadata": {},
   "outputs": [
    {
     "data": {
      "text/html": [
       "<div>\n",
       "<style scoped>\n",
       "    .dataframe tbody tr th:only-of-type {\n",
       "        vertical-align: middle;\n",
       "    }\n",
       "\n",
       "    .dataframe tbody tr th {\n",
       "        vertical-align: top;\n",
       "    }\n",
       "\n",
       "    .dataframe thead th {\n",
       "        text-align: right;\n",
       "    }\n",
       "</style>\n",
       "<table border=\"1\" class=\"dataframe\">\n",
       "  <thead>\n",
       "    <tr style=\"text-align: right;\">\n",
       "      <th></th>\n",
       "      <th>Amount</th>\n",
       "      <th>Percentage</th>\n",
       "    </tr>\n",
       "  </thead>\n",
       "  <tbody>\n",
       "    <tr>\n",
       "      <th>Value_cat</th>\n",
       "      <td>198</td>\n",
       "      <td>0.2</td>\n",
       "    </tr>\n",
       "  </tbody>\n",
       "</table>\n",
       "</div>"
      ],
      "text/plain": [
       "           Amount  Percentage\n",
       "Value_cat     198         0.2"
      ]
     },
     "execution_count": 60,
     "metadata": {},
     "output_type": "execute_result"
    }
   ],
   "source": [
    "# Check for missing values for X_sm\n",
    "missing = pd.DataFrame(X_sm.isnull().sum(), columns=[\"Amount\"])\n",
    "missing['Percentage'] = round((missing['Amount']/X_sm.shape[0])*100, 2)\n",
    "missing[missing['Amount'] != 0]"
   ]
  },
  {
   "cell_type": "code",
   "execution_count": 61,
   "metadata": {},
   "outputs": [
    {
     "data": {
      "text/html": [
       "<div>\n",
       "<style scoped>\n",
       "    .dataframe tbody tr th:only-of-type {\n",
       "        vertical-align: middle;\n",
       "    }\n",
       "\n",
       "    .dataframe tbody tr th {\n",
       "        vertical-align: top;\n",
       "    }\n",
       "\n",
       "    .dataframe thead th {\n",
       "        text-align: right;\n",
       "    }\n",
       "</style>\n",
       "<table border=\"1\" class=\"dataframe\">\n",
       "  <thead>\n",
       "    <tr style=\"text-align: right;\">\n",
       "      <th></th>\n",
       "      <th>Amount</th>\n",
       "      <th>Percentage</th>\n",
       "    </tr>\n",
       "  </thead>\n",
       "  <tbody>\n",
       "    <tr>\n",
       "      <th>Value_cat</th>\n",
       "      <td>198</td>\n",
       "      <td>0.2</td>\n",
       "    </tr>\n",
       "  </tbody>\n",
       "</table>\n",
       "</div>"
      ],
      "text/plain": [
       "           Amount  Percentage\n",
       "Value_cat     198         0.2"
      ]
     },
     "execution_count": 61,
     "metadata": {},
     "output_type": "execute_result"
    }
   ],
   "source": [
    "# Check for missing values for df_train\n",
    "missing = pd.DataFrame(df_train.isnull().sum(), columns=[\"Amount\"])\n",
    "missing['Percentage'] = round((missing['Amount']/df_train.shape[0])*100, 2)\n",
    "missing[missing['Amount'] != 0]"
   ]
  },
  {
   "cell_type": "code",
   "execution_count": 62,
   "metadata": {},
   "outputs": [],
   "source": [
    "# drop NaN from df_train\n",
    "\n",
    "df_train.dropna(axis=0, inplace = True)"
   ]
  },
  {
   "cell_type": "code",
   "execution_count": 63,
   "metadata": {},
   "outputs": [],
   "source": [
    "# Create the y_sm, X_sm split again with no missing values\n",
    "\n",
    "y_sm = df_train.FraudResult\n",
    "X_sm = df_train.drop('FraudResult', axis = 1 )"
   ]
  },
  {
   "cell_type": "code",
   "execution_count": 66,
   "metadata": {},
   "outputs": [],
   "source": [
    "# Run a random forest model\n",
    "rnc_smote = RandomForestClassifier(n_estimators = 200)\n",
    "rnc_smote.fit(X_sm, y_sm)\n",
    "y_pred_rf_sm = rnc_smote.predict(X_test)"
   ]
  },
  {
   "cell_type": "code",
   "execution_count": 67,
   "metadata": {},
   "outputs": [
    {
     "name": "stdout",
     "output_type": "stream",
     "text": [
      "Random Forest Report using SMOTE : \n",
      "               precision    recall  f1-score   support\n",
      "\n",
      "           0       1.00      1.00      1.00     28637\n",
      "           1       0.90      0.89      0.89        62\n",
      "\n",
      "    accuracy                           1.00     28699\n",
      "   macro avg       0.95      0.94      0.95     28699\n",
      "weighted avg       1.00      1.00      1.00     28699\n",
      "\n"
     ]
    }
   ],
   "source": [
    "# print results\n",
    "print(\"Random Forest Report using SMOTE : \\n\", classification_report(y_test, y_pred_rf_sm))"
   ]
  },
  {
   "cell_type": "code",
   "execution_count": 82,
   "metadata": {},
   "outputs": [
    {
     "data": {
      "image/png": "[encoded data removed]",
      "text/plain": [
       "<Figure size 1000x800 with 2 Axes>"
      ]
     },
     "metadata": {},
     "output_type": "display_data"
    }
   ],
   "source": [
    "cm_rf_sm = confusion_matrix(y_test, y_pred_rf_sm)\n",
    "sns.set(font_scale=3.0)\n",
    "sns.heatmap(cm_rf_sm, cmap=\"PuRd\", annot=True, fmt='d');"
   ]
  },
  {
   "cell_type": "markdown",
   "metadata": {},
   "source": [
    "This is our best model so far. We have a F1 score of 0.90 for frauds. In our predicted frauds, 92% of them are correct. We can predict 89% of all the fraud cases successfully. "
   ]
  },
  {
   "cell_type": "markdown",
   "metadata": {},
   "source": [
    "# Ensemble methods and Model tuning"
   ]
  },
  {
   "cell_type": "code",
   "execution_count": 69,
   "metadata": {},
   "outputs": [
    {
     "name": "stdout",
     "output_type": "stream",
     "text": [
      "Unoptimized model\n",
      "------\n",
      "Accuracy score on testing data: 0.9995\n",
      "F1-score on testing data: 0.8940\n",
      "\n",
      "Optimized Model\n",
      "------\n",
      "Final accuracy score on the testing data: 0.9997\n",
      "Final F1-score on the testing data: 0.9396\n",
      "AdaBoostClassifier(base_estimator=DecisionTreeClassifier(max_depth=3,\n",
      "                                                         min_samples_split=4),\n",
      "                   learning_rate=0.5, random_state=25)\n"
     ]
    }
   ],
   "source": [
    "from sklearn.ensemble import AdaBoostClassifier\n",
    "from sklearn.model_selection import GridSearchCV\n",
    "from sklearn.metrics import make_scorer \n",
    "from sklearn.metrics import fbeta_score\n",
    "\n",
    "# Initialize the classifier\n",
    "clf = AdaBoostClassifier(base_estimator=DecisionTreeClassifier(), random_state=RSEED)\n",
    "\n",
    "# Create the parameters list you wish to tune\n",
    "parameters = {'n_estimators':[50, 120],                \n",
    "              'learning_rate':[0.1, 0.5, 1.],               \n",
    "              'base_estimator__min_samples_split' : np.arange(2, 8, 2),               \n",
    "              'base_estimator__max_depth' : np.arange(1, 4, 1)              \n",
    "             } \n",
    "\n",
    "# Make an fbeta_score scoring object\n",
    "scorer = make_scorer(fbeta_score,beta=0.5) \n",
    "\n",
    "# Perform grid search on the classifier using 'scorer' as the scoring method\n",
    "grid_obj = GridSearchCV(clf, parameters, scoring=scorer, verbose=0, n_jobs=-1)\n",
    "\n",
    "# Fit the grid search object to the training data and find the optimal parameters\n",
    "grid_fit = grid_obj.fit(X_sm,y_sm) \n",
    "\n",
    "# Get the estimator\n",
    "best_clf = grid_fit.best_estimator_ \n",
    "\n",
    "# Make predictions using the unoptimized and model\n",
    "predictions = (clf.fit(X_sm, y_sm)).predict(X_test)\n",
    "best_predictions = best_clf.predict(X_test)\n",
    "\n",
    "# Report the before-and-afterscores\n",
    "print(\"Unoptimized model\\n------\")\n",
    "print(\"Accuracy score on testing data: {:.4f}\".format(accuracy_score(y_test, predictions)))\n",
    "print(\"F1-score on testing data: {:.4f}\".format(fbeta_score(y_test, predictions, beta = 0.5)))\n",
    "print(\"\\nOptimized Model\\n------\")\n",
    "print(\"Final accuracy score on the testing data: {:.4f}\".format(accuracy_score(y_test, best_predictions)))\n",
    "print(\"Final F1-score on the testing data: {:.4f}\".format(fbeta_score(y_test, best_predictions, beta = 0.5)))\n",
    "print(best_clf)"
   ]
  },
  {
   "cell_type": "code",
   "execution_count": 70,
   "metadata": {},
   "outputs": [
    {
     "data": {
      "image/png": "[encoded data removed]",
      "text/plain": [
       "<Figure size 1000x800 with 2 Axes>"
      ]
     },
     "metadata": {},
     "output_type": "display_data"
    }
   ],
   "source": [
    "cm_best = confusion_matrix(y_test, best_predictions)\n",
    "sns.heatmap(cm_best, cmap=\"YlGnBu\", annot=True, fmt='d');"
   ]
  },
  {
   "cell_type": "markdown",
   "metadata": {},
   "source": [
    "# Money saved with fraud prediction"
   ]
  },
  {
   "cell_type": "markdown",
   "metadata": {},
   "source": [
    "Fraud cases create massive losses to the merchants. Let's see how much money was involved:"
   ]
  },
  {
   "cell_type": "code",
   "execution_count": 71,
   "metadata": {},
   "outputs": [
    {
     "data": {
      "text/plain": [
       "94954641"
      ]
     },
     "execution_count": 71,
     "metadata": {},
     "output_type": "execute_result"
    }
   ],
   "source": [
    "# Total value in the Test dataset\n",
    "\n",
    "df_test = pd.concat([X_test,y_test], axis =1)\n",
    "df_test[(df_test.FraudResult == 1)].sum()['Value']"
   ]
  },
  {
   "cell_type": "markdown",
   "metadata": {},
   "source": [
    "That is almost 95M in value!"
   ]
  },
  {
   "cell_type": "code",
   "execution_count": 72,
   "metadata": {},
   "outputs": [],
   "source": [
    "# Make a new data frame to compare prediction and test\n",
    "\n",
    "df_prediction = y_test.to_frame()\n",
    "df_prediction['Prediction'] = y_pred_rf_sm\n",
    "df_prediction = pd.concat([X_test,df_prediction], axis =1)"
   ]
  },
  {
   "cell_type": "code",
   "execution_count": 73,
   "metadata": {},
   "outputs": [],
   "source": [
    "TP = df_prediction[(df_prediction['FraudResult'] == 0 ) & (df_prediction['Prediction'] == 0)]"
   ]
  },
  {
   "cell_type": "code",
   "execution_count": 74,
   "metadata": {},
   "outputs": [
    {
     "name": "stdout",
     "output_type": "stream",
     "text": [
      "TN value: 87788636\n",
      "TN count: 55\n"
     ]
    }
   ],
   "source": [
    "# Value of frauds that we correctly predicted\n",
    "TN = df_prediction[(df_prediction['FraudResult'] == 1 ) & (df_prediction['Prediction'] == 1)]\n",
    "print(f'TN value:', TN.sum()['Value'])\n",
    "print(f'TN count:', TN.shape[0])"
   ]
  },
  {
   "cell_type": "markdown",
   "metadata": {},
   "source": [
    "We successfully prevented 56 fraud cases worth 89.7M loss by detecting fraud."
   ]
  },
  {
   "cell_type": "code",
   "execution_count": 75,
   "metadata": {},
   "outputs": [
    {
     "name": "stdout",
     "output_type": "stream",
     "text": [
      "FP value: 7166005\n",
      "FP count: 7\n"
     ]
    }
   ],
   "source": [
    "FP = df_prediction[(df_prediction['FraudResult'] == 1 ) & (df_prediction['Prediction'] == 0)]\n",
    "print(f'FP value:', FP.sum()['Value'])\n",
    "print(f'FP count:', FP.shape[0])"
   ]
  },
  {
   "cell_type": "markdown",
   "metadata": {},
   "source": [
    "However, there are limitations in our model so there are 6 records and 5.3M worth of frauds that we couldn't detect."
   ]
  },
  {
   "cell_type": "code",
   "execution_count": 76,
   "metadata": {},
   "outputs": [
    {
     "name": "stdout",
     "output_type": "stream",
     "text": [
      "FN value: 4875860\n",
      "FN count: 6\n"
     ]
    }
   ],
   "source": [
    "FN = df_prediction[(df_prediction['FraudResult'] == 0 ) & (df_prediction['Prediction'] == 1)]\n",
    "print(f'FN value:', FN.sum()['Value'])\n",
    "print(f'FN count:', FN.shape[0])"
   ]
  },
  {
   "cell_type": "markdown",
   "metadata": {},
   "source": [
    "There are also 5 transactions that are falsely classified as frauds."
   ]
  },
  {
   "cell_type": "markdown",
   "metadata": {},
   "source": [
    "# Error analysis"
   ]
  },
  {
   "cell_type": "markdown",
   "metadata": {},
   "source": [
    "We will have a look at the misclassified data points from the confusion matrix and do a second EDA on them to look for patterns."
   ]
  },
  {
   "cell_type": "code",
   "execution_count": 77,
   "metadata": {},
   "outputs": [
    {
     "data": {
      "text/html": [
       "<div>\n",
       "<style scoped>\n",
       "    .dataframe tbody tr th:only-of-type {\n",
       "        vertical-align: middle;\n",
       "    }\n",
       "\n",
       "    .dataframe tbody tr th {\n",
       "        vertical-align: top;\n",
       "    }\n",
       "\n",
       "    .dataframe thead th {\n",
       "        text-align: right;\n",
       "    }\n",
       "</style>\n",
       "<table border=\"1\" class=\"dataframe\">\n",
       "  <thead>\n",
       "    <tr style=\"text-align: right;\">\n",
       "      <th></th>\n",
       "      <th>ProviderId</th>\n",
       "      <th>ProductId</th>\n",
       "      <th>ProductCategory</th>\n",
       "      <th>ChannelId</th>\n",
       "      <th>Value</th>\n",
       "      <th>PricingStrategy</th>\n",
       "      <th>Value_cat</th>\n",
       "      <th>trans_direction</th>\n",
       "      <th>fraud_history</th>\n",
       "      <th>Transaction_hour</th>\n",
       "      <th>Transaction_weekday</th>\n",
       "      <th>FraudResult</th>\n",
       "      <th>Prediction</th>\n",
       "    </tr>\n",
       "  </thead>\n",
       "  <tbody>\n",
       "    <tr>\n",
       "      <th>69570</th>\n",
       "      <td>3</td>\n",
       "      <td>15</td>\n",
       "      <td>2</td>\n",
       "      <td>3</td>\n",
       "      <td>50000</td>\n",
       "      <td>2</td>\n",
       "      <td>0</td>\n",
       "      <td>0</td>\n",
       "      <td>1</td>\n",
       "      <td>20</td>\n",
       "      <td>3</td>\n",
       "      <td>1</td>\n",
       "      <td>0</td>\n",
       "    </tr>\n",
       "    <tr>\n",
       "      <th>76662</th>\n",
       "      <td>5</td>\n",
       "      <td>15</td>\n",
       "      <td>2</td>\n",
       "      <td>3</td>\n",
       "      <td>1900000</td>\n",
       "      <td>2</td>\n",
       "      <td>0</td>\n",
       "      <td>0</td>\n",
       "      <td>1</td>\n",
       "      <td>18</td>\n",
       "      <td>1</td>\n",
       "      <td>1</td>\n",
       "      <td>0</td>\n",
       "    </tr>\n",
       "    <tr>\n",
       "      <th>53492</th>\n",
       "      <td>5</td>\n",
       "      <td>15</td>\n",
       "      <td>2</td>\n",
       "      <td>3</td>\n",
       "      <td>2000000</td>\n",
       "      <td>2</td>\n",
       "      <td>0</td>\n",
       "      <td>0</td>\n",
       "      <td>1</td>\n",
       "      <td>10</td>\n",
       "      <td>2</td>\n",
       "      <td>1</td>\n",
       "      <td>0</td>\n",
       "    </tr>\n",
       "    <tr>\n",
       "      <th>68918</th>\n",
       "      <td>4</td>\n",
       "      <td>6</td>\n",
       "      <td>2</td>\n",
       "      <td>2</td>\n",
       "      <td>1005</td>\n",
       "      <td>2</td>\n",
       "      <td>0</td>\n",
       "      <td>1</td>\n",
       "      <td>1</td>\n",
       "      <td>9</td>\n",
       "      <td>3</td>\n",
       "      <td>1</td>\n",
       "      <td>0</td>\n",
       "    </tr>\n",
       "    <tr>\n",
       "      <th>91615</th>\n",
       "      <td>1</td>\n",
       "      <td>15</td>\n",
       "      <td>2</td>\n",
       "      <td>3</td>\n",
       "      <td>1115000</td>\n",
       "      <td>2</td>\n",
       "      <td>0</td>\n",
       "      <td>0</td>\n",
       "      <td>1</td>\n",
       "      <td>11</td>\n",
       "      <td>6</td>\n",
       "      <td>1</td>\n",
       "      <td>0</td>\n",
       "    </tr>\n",
       "    <tr>\n",
       "      <th>71246</th>\n",
       "      <td>3</td>\n",
       "      <td>15</td>\n",
       "      <td>2</td>\n",
       "      <td>3</td>\n",
       "      <td>100000</td>\n",
       "      <td>2</td>\n",
       "      <td>0</td>\n",
       "      <td>0</td>\n",
       "      <td>1</td>\n",
       "      <td>8</td>\n",
       "      <td>5</td>\n",
       "      <td>1</td>\n",
       "      <td>0</td>\n",
       "    </tr>\n",
       "    <tr>\n",
       "      <th>94805</th>\n",
       "      <td>3</td>\n",
       "      <td>15</td>\n",
       "      <td>2</td>\n",
       "      <td>3</td>\n",
       "      <td>2000000</td>\n",
       "      <td>2</td>\n",
       "      <td>0</td>\n",
       "      <td>0</td>\n",
       "      <td>1</td>\n",
       "      <td>14</td>\n",
       "      <td>2</td>\n",
       "      <td>1</td>\n",
       "      <td>0</td>\n",
       "    </tr>\n",
       "    <tr>\n",
       "      <th>62470</th>\n",
       "      <td>3</td>\n",
       "      <td>15</td>\n",
       "      <td>2</td>\n",
       "      <td>3</td>\n",
       "      <td>200000</td>\n",
       "      <td>2</td>\n",
       "      <td>0</td>\n",
       "      <td>0</td>\n",
       "      <td>1</td>\n",
       "      <td>9</td>\n",
       "      <td>4</td>\n",
       "      <td>0</td>\n",
       "      <td>1</td>\n",
       "    </tr>\n",
       "    <tr>\n",
       "      <th>78323</th>\n",
       "      <td>3</td>\n",
       "      <td>15</td>\n",
       "      <td>2</td>\n",
       "      <td>3</td>\n",
       "      <td>100000</td>\n",
       "      <td>2</td>\n",
       "      <td>0</td>\n",
       "      <td>0</td>\n",
       "      <td>1</td>\n",
       "      <td>13</td>\n",
       "      <td>3</td>\n",
       "      <td>0</td>\n",
       "      <td>1</td>\n",
       "    </tr>\n",
       "    <tr>\n",
       "      <th>76785</th>\n",
       "      <td>3</td>\n",
       "      <td>15</td>\n",
       "      <td>2</td>\n",
       "      <td>3</td>\n",
       "      <td>2000000</td>\n",
       "      <td>2</td>\n",
       "      <td>0</td>\n",
       "      <td>0</td>\n",
       "      <td>1</td>\n",
       "      <td>21</td>\n",
       "      <td>1</td>\n",
       "      <td>0</td>\n",
       "      <td>1</td>\n",
       "    </tr>\n",
       "    <tr>\n",
       "      <th>87467</th>\n",
       "      <td>1</td>\n",
       "      <td>15</td>\n",
       "      <td>2</td>\n",
       "      <td>3</td>\n",
       "      <td>1095860</td>\n",
       "      <td>2</td>\n",
       "      <td>0</td>\n",
       "      <td>0</td>\n",
       "      <td>1</td>\n",
       "      <td>22</td>\n",
       "      <td>3</td>\n",
       "      <td>0</td>\n",
       "      <td>1</td>\n",
       "    </tr>\n",
       "    <tr>\n",
       "      <th>78658</th>\n",
       "      <td>5</td>\n",
       "      <td>15</td>\n",
       "      <td>2</td>\n",
       "      <td>3</td>\n",
       "      <td>1000000</td>\n",
       "      <td>2</td>\n",
       "      <td>0</td>\n",
       "      <td>0</td>\n",
       "      <td>1</td>\n",
       "      <td>18</td>\n",
       "      <td>3</td>\n",
       "      <td>0</td>\n",
       "      <td>1</td>\n",
       "    </tr>\n",
       "    <tr>\n",
       "      <th>28117</th>\n",
       "      <td>5</td>\n",
       "      <td>15</td>\n",
       "      <td>2</td>\n",
       "      <td>3</td>\n",
       "      <td>480000</td>\n",
       "      <td>2</td>\n",
       "      <td>0</td>\n",
       "      <td>0</td>\n",
       "      <td>1</td>\n",
       "      <td>9</td>\n",
       "      <td>6</td>\n",
       "      <td>0</td>\n",
       "      <td>1</td>\n",
       "    </tr>\n",
       "  </tbody>\n",
       "</table>\n",
       "</div>"
      ],
      "text/plain": [
       "       ProviderId  ProductId ProductCategory  ChannelId    Value  \\\n",
       "69570           3         15               2          3    50000   \n",
       "76662           5         15               2          3  1900000   \n",
       "53492           5         15               2          3  2000000   \n",
       "68918           4          6               2          2     1005   \n",
       "91615           1         15               2          3  1115000   \n",
       "71246           3         15               2          3   100000   \n",
       "94805           3         15               2          3  2000000   \n",
       "62470           3         15               2          3   200000   \n",
       "78323           3         15               2          3   100000   \n",
       "76785           3         15               2          3  2000000   \n",
       "87467           1         15               2          3  1095860   \n",
       "78658           5         15               2          3  1000000   \n",
       "28117           5         15               2          3   480000   \n",
       "\n",
       "       PricingStrategy Value_cat  trans_direction  fraud_history  \\\n",
       "69570                2         0                0              1   \n",
       "76662                2         0                0              1   \n",
       "53492                2         0                0              1   \n",
       "68918                2         0                1              1   \n",
       "91615                2         0                0              1   \n",
       "71246                2         0                0              1   \n",
       "94805                2         0                0              1   \n",
       "62470                2         0                0              1   \n",
       "78323                2         0                0              1   \n",
       "76785                2         0                0              1   \n",
       "87467                2         0                0              1   \n",
       "78658                2         0                0              1   \n",
       "28117                2         0                0              1   \n",
       "\n",
       "       Transaction_hour  Transaction_weekday  FraudResult  Prediction  \n",
       "69570                20                    3            1           0  \n",
       "76662                18                    1            1           0  \n",
       "53492                10                    2            1           0  \n",
       "68918                 9                    3            1           0  \n",
       "91615                11                    6            1           0  \n",
       "71246                 8                    5            1           0  \n",
       "94805                14                    2            1           0  \n",
       "62470                 9                    4            0           1  \n",
       "78323                13                    3            0           1  \n",
       "76785                21                    1            0           1  \n",
       "87467                22                    3            0           1  \n",
       "78658                18                    3            0           1  \n",
       "28117                 9                    6            0           1  "
      ]
     },
     "execution_count": 77,
     "metadata": {},
     "output_type": "execute_result"
    }
   ],
   "source": [
    "# Looking at all 11 misclassified transactions\n",
    "missclass = FP.append(FN)\n",
    "missclass"
   ]
  },
  {
   "cell_type": "markdown",
   "metadata": {},
   "source": [
    "Some pattern can be seen: all of the misclassified records are of ProductCategory 2, PricingStrategy 2, Value_cat 0 (incoming), fraud_history 1 (has fraud history), so it is advisable to be extra careful with records with these characteristics. "
   ]
  }
 ],
 "metadata": {
  "kernelspec": {
   "display_name": "Python 3.9.8 ('.venv': venv)",
   "language": "python",
   "name": "python3"
  },
  "language_info": {
   "codemirror_mode": {
    "name": "ipython",
    "version": 3
   },
   "file_extension": ".py",
   "mimetype": "text/x-python",
   "name": "python",
   "nbconvert_exporter": "python",
   "pygments_lexer": "ipython3",
   "version": "3.9.8"
  },
  "vscode": {
   "interpreter": {
    "hash": "75b78315a4525203808a3cc28ef72d773066821ced07a02e028014a6e8a6dffd"
   }
  }
 },
 "nbformat": 4,
 "nbformat_minor": 4
}
